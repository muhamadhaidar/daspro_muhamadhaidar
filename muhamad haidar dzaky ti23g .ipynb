{
 "cells": [
  {
   "cell_type": "markdown",
   "id": "2ccb15e7",
   "metadata": {},
   "source": [
    "<h1>Variabel dan tipe data</h1><hr>\n",
    "tipe data pada python adalah:\n",
    "    <ol>\n",
    "        <li>Float - (float)</li>\n",
    "        <li>String - (str)</li>\n",
    "        <li>Bolean - (bool)</li>\n",
    "        <li>Integer - (int)</li>\n",
    "    </ol><hr>\n",
    "    Aturan penamaan variabel:\n",
    "    <ul>\n",
    "        <li>Tidak boleh menggunakan spasi</li>\n",
    "        <li>Bersifat case sensitive=> A != a</li>\n",
    "        <li>Terdiri dari huruf, angka dan karakter _ (underscore)</li>\n",
    "        <li>Diawali underscore atau huruf</li>\n",
    "        <li>Tidak boleh menggunakan reserved keyword</li>\n",
    "        <hr>\n",
    "    </ul>"
   ]
  },
  {
   "cell_type": "code",
   "execution_count": 36,
   "id": "9ef22334",
   "metadata": {},
   "outputs": [
    {
     "name": "stdout",
     "output_type": "stream",
     "text": [
      "20\n",
      "100\n",
      "89.7\n",
      "True\n"
     ]
    }
   ],
   "source": [
    "data_integer = 100\n",
    "data_float = 89.7\n",
    "data_string = \"20\"\n",
    "data_boolean = True\n",
    "\n",
    "data_string\n",
    "print(data_string)\n",
    "print(data_integer)\n",
    "print(data_float)\n",
    "print(data_boolean)"
   ]
  },
  {
   "cell_type": "code",
   "execution_count": 24,
   "id": "44dfa45e",
   "metadata": {},
   "outputs": [
    {
     "name": "stdout",
     "output_type": "stream",
     "text": [
      "<class 'int'>\n",
      "<class 'str'>\n",
      "<class 'float'>\n",
      "<class 'bool'>\n"
     ]
    }
   ],
   "source": [
    "print(type(data_integer))\n",
    "print(type(data_string))\n",
    "print(type(data_float))\n",
    "print(type(data_boolean))"
   ]
  },
  {
   "cell_type": "markdown",
   "id": "6cc9ccde",
   "metadata": {},
   "source": [
    "konversi tipe data dari integer ke (String,Float,Boolean)</h3>\n",
    "<hr>"
   ]
  },
  {
   "cell_type": "code",
   "execution_count": 21,
   "id": "8557b48d",
   "metadata": {},
   "outputs": [
    {
     "name": "stdout",
     "output_type": "stream",
     "text": [
      "isikan bilangan 1:86\n",
      "isikan bilangan 2:87\n",
      "173\n"
     ]
    }
   ],
   "source": [
    "bil1 = input(\"isikan bilangan 1:\")\n",
    "bil2 = input(\"isikan bilangan 2:\")\n",
    "hasil = int(bil1) + int(bil2)\n",
    "print(hasil) "
   ]
  },
  {
   "cell_type": "code",
   "execution_count": 28,
   "id": "28ef8493",
   "metadata": {},
   "outputs": [
    {
     "name": "stdout",
     "output_type": "stream",
     "text": [
      "20\n",
      "89\n",
      "1\n",
      "<class 'int'>\n",
      "<class 'int'>\n",
      "<class 'int'>\n"
     ]
    }
   ],
   "source": [
    "string_to_integer = int(data_string)\n",
    "float_to_integer = int(data_float)\n",
    "boolean_to_integer = int(data_boolean)\n",
    "\n",
    "print(string_to_int)\n",
    "print(float_to_int)\n",
    "print(bool_to_int)\n",
    "\n",
    "print(type(string_to_int))\n",
    "print(type(float_to_int))\n",
    "print(type(bool_to_int))"
   ]
  },
  {
   "cell_type": "code",
   "execution_count": 29,
   "id": "49ec94e6",
   "metadata": {},
   "outputs": [
    {
     "name": "stdout",
     "output_type": "stream",
     "text": [
      "20.0\n",
      "100.0\n",
      "1.0\n",
      "<class 'float'>\n",
      "<class 'float'>\n",
      "<class 'float'>\n"
     ]
    }
   ],
   "source": [
    "string_to_float = float(data_string)\n",
    "int_to_float = float(data_integer)\n",
    "bool_to_float = float(data_boolean)\n",
    "\n",
    "print(string_to_float)\n",
    "print(int_to_float)\n",
    "print(bool_to_float)\n",
    "\n",
    "print(type(string_to_float))\n",
    "print(type(int_to_float))\n",
    "print(type(bool_to_float))"
   ]
  },
  {
   "cell_type": "code",
   "execution_count": 31,
   "id": "f49af7ed",
   "metadata": {},
   "outputs": [
    {
     "name": "stdout",
     "output_type": "stream",
     "text": [
      "True\n",
      "True\n",
      "True\n",
      "<class 'bool'>\n",
      "<class 'bool'>\n",
      "<class 'bool'>\n"
     ]
    }
   ],
   "source": [
    "string_to_bool = bool(data_string)\n",
    "int_to_bool = bool(data_integer)\n",
    "float_to_bool = bool(data_float)\n",
    "\n",
    "print(string_to_bool)\n",
    "print(int_to_bool)\n",
    "print(float_to_bool)\n",
    "\n",
    "print(type(string_to_bool))\n",
    "print(type(int_to_bool))\n",
    "print(type(float_to_bool))"
   ]
  },
  {
   "cell_type": "code",
   "execution_count": 35,
   "id": "93dd3ec4",
   "metadata": {},
   "outputs": [
    {
     "name": "stdout",
     "output_type": "stream",
     "text": [
      "True\n",
      "100\n",
      "89.7\n",
      "<class 'str'>\n",
      "<class 'str'>\n",
      "<class 'str'>\n"
     ]
    }
   ],
   "source": [
    "bool_to_str = str(data_boolean)\n",
    "int_to_str = str(data_integer)\n",
    "float_to_str = str(data_float)\n",
    "\n",
    "print(bool_to_str)\n",
    "print(int_to_str)\n",
    "print(float_to_str)\n",
    "\n",
    "print(type(bool_to_str))\n",
    "print(type(int_to_str))\n",
    "print(type(float_to_str))"
   ]
  },
  {
   "cell_type": "code",
   "execution_count": null,
   "id": "e6eee02d",
   "metadata": {},
   "outputs": [],
   "source": []
  }
 ],
 "metadata": {
  "kernelspec": {
   "display_name": "Python 3 (ipykernel)",
   "language": "python",
   "name": "python3"
  },
  "language_info": {
   "codemirror_mode": {
    "name": "ipython",
    "version": 3
   },
   "file_extension": ".py",
   "mimetype": "text/x-python",
   "name": "python",
   "nbconvert_exporter": "python",
   "pygments_lexer": "ipython3",
   "version": "3.9.12"
  }
 },
 "nbformat": 4,
 "nbformat_minor": 5
}
