{
 "cells": [
  {
   "cell_type": "markdown",
   "id": "fb826257",
   "metadata": {},
   "source": [
    "<h1>HAIDAR MAFIA MENGERIKAN</h1>\n"
   ]
  },
  {
   "cell_type": "code",
   "execution_count": 4,
   "id": "b223919f",
   "metadata": {},
   "outputs": [
    {
     "name": "stdout",
     "output_type": "stream",
     "text": [
      "masukan nama tersangka: haidar \n",
      "masukan umur tersangka: 28\n",
      "masukan alamat rumah tersangka: Nevada\n",
      "masukan tabungan uang haram: 1000001\n",
      "haidar  Tersangka pangkat Underboss\n"
     ]
    }
   ],
   "source": [
    "nama = str(input(\"masukan nama tersangka: \"))\n",
    "umur = int(input(\"masukan umur tersangka: \"))\n",
    "rumah = str(input(\"masukan alamat rumah tersangka: \"))\n",
    "tabungan = int(input(\"masukan tabungan uang haram: \"))\n",
    "\n",
    "if umur > 40:\n",
    "    if rumah == 'Nevada' or rumah == 'New york' or rumah == 'Havana':\n",
    "        if tabungan > 10000000:\n",
    "            print(f\"{nama} Tersangka pangkat Don\")\n",
    "    \n",
    "if umur > 25 or umur < 40:\n",
    "    if rumah == 'New Jersey' or rumah == 'Manhattan' or rumah == 'Nevada':\n",
    "        if tabungan > 1000000 or tabungan < 2000000:\n",
    "            print(f\"{nama} Tersangka pangkat Underboss\")\n",
    "\n",
    "if umur > 18 or umur < 24:\n",
    "    if rumah == 'California' or rumah == 'Detroit' or rumah == 'Boston':\n",
    "        if tabungan < 1000000:\n",
    "            print(f\"{nama} Tersangka pangkat Capo\")\n",
    "else:\n",
    "     print(f\"{nama} tidak mencurigakan\") \n"
   ]
  },
  {
   "cell_type": "code",
   "execution_count": null,
   "id": "b71ca503",
   "metadata": {},
   "outputs": [],
   "source": []
  }
 ],
 "metadata": {
  "kernelspec": {
   "display_name": "Python 3 (ipykernel)",
   "language": "python",
   "name": "python3"
  },
  "language_info": {
   "codemirror_mode": {
    "name": "ipython",
    "version": 3
   },
   "file_extension": ".py",
   "mimetype": "text/x-python",
   "name": "python",
   "nbconvert_exporter": "python",
   "pygments_lexer": "ipython3",
   "version": "3.9.12"
  }
 },
 "nbformat": 4,
 "nbformat_minor": 5
}
