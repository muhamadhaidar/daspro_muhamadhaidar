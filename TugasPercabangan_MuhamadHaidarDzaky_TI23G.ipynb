{
 "cells": [
  {
   "cell_type": "markdown",
   "id": "ec559bbf-fb6f-4751-9be0-cae922e5911a",
   "metadata": {},
   "source": [
    "<h1>1. Penerimaan Calon Programmer</h1>"
   ]
  },
  {
   "cell_type": "code",
   "execution_count": 11,
   "id": "50249aa3-ada8-4f5d-b4ed-f0f09b7d9e7e",
   "metadata": {},
   "outputs": [
    {
     "name": "stdin",
     "output_type": "stream",
     "text": [
      "Masukkan Nilai :  61\n"
     ]
    },
    {
     "name": "stdout",
     "output_type": "stream",
     "text": [
      "61 = B\n",
      "DIPERTIMBANGKAN \n",
      "Selamat Kamu Berhasil Menjadi Calon Programmer!\n"
     ]
    }
   ],
   "source": [
    "nilai = int(input(\"Masukkan Nilai : \"))\n",
    "\n",
    "grade =''\n",
    "\n",
    "if nilai >= 80 and nilai <=100:\n",
    "    print(f\"{nilai} = A\")\n",
    "    grade = 'LOLOS'\n",
    "elif nilai >= 60 and nilai <=80:\n",
    "    print(f\"{nilai} = B\")\n",
    "    grade ='DIPERTIMBANGKAN'\n",
    "elif nilai < 60:\n",
    "    print(f\"{nilai} = GAGAL\")\n",
    "\n",
    "if grade !='':\n",
    "    print(f\"{grade} \\nSelamat Kamu Berhasil Menjadi Calon Programmer!\")\n",
    "else:\n",
    "    print(f\"{grade} \\nMaaf Kamu Belum Berhasil Menjadi Calon Programmer\")"
   ]
  },
  {
   "cell_type": "markdown",
   "id": "a858b779-44cc-4eed-b5d3-25497a011c1f",
   "metadata": {},
   "source": [
    "<h1>2. Persegi FC</h1>"
   ]
  },
  {
   "cell_type": "code",
   "execution_count": 13,
   "id": "4e97265b-3b6b-453b-b1f3-f44087135184",
   "metadata": {},
   "outputs": [
    {
     "name": "stdin",
     "output_type": "stream",
     "text": [
      "Insert back number :  93\n"
     ]
    },
    {
     "name": "stdout",
     "output_type": "stream",
     "text": [
      "The back number 93 can serve as a position :\n",
      "- Defender\n"
     ]
    }
   ],
   "source": [
    "number = int(input(\"Insert back number : \"))\n",
    "position = []\n",
    "\n",
    "if number % 2 == 0:\n",
    "    position.append(\"Target Attacker\")\n",
    "elif number % 2 == 0 and 50 <= number <= 100:\n",
    "    position.append(\"Capten Team\")\n",
    "elif number % 2 != 0:\n",
    "    position.append(\"Defender\")\n",
    "elif number % 2 != 0 and number > 90:\n",
    "    position.append(\"Playmaker\")\n",
    "elif number % 2 != 0 and number % 3 == 0 and number % 5 == 0:\n",
    "    position.append(\"Keeper\")\n",
    "\n",
    "# Show Result\n",
    "if len(position) == 0:\n",
    "    print(\"Doesn't fulfill any position.\")\n",
    "else:\n",
    "    print(f\"The back number {number} can serve as a position :\")\n",
    "    for p in position:\n",
    "        print(\"-\", p)"
   ]
  },
  {
   "cell_type": "code",
   "execution_count": null,
   "id": "0484c105-faee-4822-bb50-99ab37ea8e54",
   "metadata": {},
   "outputs": [],
   "source": []
  }
 ],
 "metadata": {
  "kernelspec": {
   "display_name": "Python 3 (ipykernel)",
   "language": "python",
   "name": "python3"
  },
  "language_info": {
   "codemirror_mode": {
    "name": "ipython",
    "version": 3
   },
   "file_extension": ".py",
   "mimetype": "text/x-python",
   "name": "python",
   "nbconvert_exporter": "python",
   "pygments_lexer": "ipython3",
   "version": "3.11.7"
  }
 },
 "nbformat": 4,
 "nbformat_minor": 5
}
