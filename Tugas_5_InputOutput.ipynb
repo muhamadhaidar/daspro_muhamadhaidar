{
 "cells": [
  {
   "cell_type": "markdown",
   "id": "65f4500d-346e-445a-8ddf-affd808120ac",
   "metadata": {},
   "source": [
    "<h1>1. Buatlah biodata sederhana dengan menggunakan fungsi input(), dan output variabel dengan fungsi format().</h1>\n"
   ]
  },
  {
   "cell_type": "code",
   "execution_count": 10,
   "id": "14a79dbe-4db4-4435-83e9-cca3a3f1ec82",
   "metadata": {},
   "outputs": [
    {
     "name": "stdin",
     "output_type": "stream",
     "text": [
      "Nama Depan :  Muhamad\n",
      "Nama Tengah :  Haidar\n",
      "Nama Belakang :  Dzaky\n",
      "Masukkan Tempat lahir : Sukabumi\n",
      "Masukkan Tanggal lahir : 08\n",
      "Masukkan Bulan lahir : Mei\n",
      "Masukkan Tahun lahir : 2005\n",
      "Tempat Tinggal : Keonpedes, Sukabumi\n",
      "Hobi : Main Game\n"
     ]
    },
    {
     "name": "stdout",
     "output_type": "stream",
     "text": [
      "\n",
      "===============BIODATA===============\n",
      "\n",
      "Nama           : Muhamad Haidar Dzaky\n",
      "TTL            : Sukabumi 08 Mei 2005\n",
      "Tempat Tinggal : Keonpedes, Sukabumi\n",
      "Hobi           : Main Game\n"
     ]
    }
   ],
   "source": [
    "first_name = input('Nama Depan : ')\n",
    "middle_name = input('Nama Tengah : ')\n",
    "last_name = input('Nama Belakang : ')\n",
    "\n",
    "tempat = input('Masukkan Tempat lahir :')\n",
    "tanggal = input('Masukkan Tanggal lahir :')\n",
    "bulan = input('Masukkan Bulan lahir :')\n",
    "tahun = input('Masukkan Tahun lahir :')\n",
    "\n",
    "alamat = input('Tempat Tinggal :')\n",
    "\n",
    "hobi = input('Hobi :')\n",
    "\n",
    "print(\"\")\n",
    "print(\"===============BIODATA===============\")\n",
    "print(\"\")\n",
    "\n",
    "print(\"Nama           : {0} {1} {2}\". format(first_name,middle_name,last_name))\n",
    "print(\"TTL            : {0} {1} {2} {3}\". format(tempat,tanggal,bulan,tahun))\n",
    "print(\"Tempat Tinggal : {}\". format(alamat))\n",
    "print(\"Hobi           : {}\". format(hobi))"
   ]
  },
  {
   "cell_type": "markdown",
   "id": "80a493e6-6968-45c3-8fcb-7acd6c97f6df",
   "metadata": {},
   "source": [
    "<h1>2. Jika terdapat kalimat UNIVERSITAS NUSA PUTRA SUKABUMI, buatlah kode program untuk menampilkan output:</h1>\n"
   ]
  },
  {
   "cell_type": "markdown",
   "id": "0385c20b-f92d-49fc-af3c-b533cbff53d3",
   "metadata": {},
   "source": [
    "1. Putra Nusa\n",
    "2. Niversitas Nsa Ptra Skabmi\n",
    "3. Sukabumi Putra Nusa Universitas\n",
    "4. Unps\n",
    "5. Tas Sapu Bumi\n",
    "   >>>"
   ]
  },
  {
   "cell_type": "code",
   "execution_count": 6,
   "id": "f7ee00b4-2c5e-45d3-be29-c5dd0c260820",
   "metadata": {},
   "outputs": [
    {
     "name": "stdout",
     "output_type": "stream",
     "text": [
      "PUTRA NUSA\n",
      "NIVERSITAS NSA PTRA SKABMI\n",
      "SUKABUMI PUTRA NUSA UNIVERSITAS\n",
      "UNPS\n",
      "TAS SAPU BUMI\n"
     ]
    }
   ],
   "source": [
    "kalimat = \"UNIVERSITAS NUSA PUTRA SUKABUMI\"\n",
    "kalimats = kalimat.split()\n",
    "\n",
    "print(kalimat[-14:-9] + kalimat[-20:-15])\n",
    "print(kalimat[1:11] + kalimat[11:13] + kalimat[14] + kalimat[15] + kalimat[16:18] + kalimat[19:22] + kalimat[22:24]+ kalimat[25:28] + kalimat [29:31])\n",
    "print(kalimat[23:31] + kalimat[16:22] + kalimat[11:17] + kalimat[0:11])\n",
    "print(kalimats[0][0] + kalimats[1][0] + kalimats[2][0] + kalimats[3][0])\n",
    "print(kalimat[8:11], kalimat[14:16] + kalimat[17:19] + \" \" + kalimat[27:31])"
   ]
  },
  {
   "cell_type": "code",
   "execution_count": 7,
   "id": "d002b167-a629-44ac-ba6e-154275b9d6e2",
   "metadata": {},
   "outputs": [
    {
     "name": "stdout",
     "output_type": "stream",
     "text": [
      "putra nusa\n",
      "niversitas nsa ptra skabmi\n",
      "sukabumi putra nusa universitas\n",
      "unps\n",
      "tas sapu bumi\n"
     ]
    }
   ],
   "source": [
    "kalimat = \"UNIVERSITAS NUSA PUTRA SUKABUMI\"\n",
    "a = kalimat.lower()\n",
    "b = a.split()\n",
    "\n",
    "print(b[2][0:5], end=' ')\n",
    "print(b[1][0:4])\n",
    "\n",
    "print(b[0][1:11], end=' ')\n",
    "print(b[1][0], end='')\n",
    "print(b[1][2:4], end=' ')\n",
    "print(b[2][0], end='')\n",
    "print(b[2][2:5], end= ' ')\n",
    "print(b[3][0], end= '')\n",
    "print(b[3][2:4], end='')\n",
    "print(b[3][4], end= '')\n",
    "print(b[3][6:8])\n",
    "\n",
    "print(b[3][0:8], end=' ')\n",
    "print(b[2][0:5], end=' ')\n",
    "print(b[1][0:4], end=' ')\n",
    "print(b[0][0:11])\n",
    "\n",
    "print(b[0][0] + b[1][0] + b[2][0] + b[3][0])\n",
    "\n",
    "print(b[0][8:11], end=' ')\n",
    "print(b[1][2:4],end='')\n",
    "print(b[2][0:2],end=' ')\n",
    "print(b[3][4:8])"
   ]
  },
  {
   "cell_type": "code",
   "execution_count": null,
   "id": "7d29fa90-f9e9-4174-8897-2cee48100e27",
   "metadata": {},
   "outputs": [],
   "source": []
  }
 ],
 "metadata": {
  "kernelspec": {
   "display_name": "Python 3 (ipykernel)",
   "language": "python",
   "name": "python3"
  },
  "language_info": {
   "codemirror_mode": {
    "name": "ipython",
    "version": 3
   },
   "file_extension": ".py",
   "mimetype": "text/x-python",
   "name": "python",
   "nbconvert_exporter": "python",
   "pygments_lexer": "ipython3",
   "version": "3.11.7"
  }
 },
 "nbformat": 4,
 "nbformat_minor": 5
}
